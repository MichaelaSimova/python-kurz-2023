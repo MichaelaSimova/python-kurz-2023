{
 "cells": [
  {
   "cell_type": "code",
   "execution_count": null,
   "metadata": {},
   "outputs": [],
   "source": [
    "import pandas"
   ]
  },
  {
   "cell_type": "code",
   "execution_count": 4,
   "metadata": {},
   "outputs": [
    {
     "data": {
      "text/html": [
       "<div>\n",
       "<style scoped>\n",
       "    .dataframe tbody tr th:only-of-type {\n",
       "        vertical-align: middle;\n",
       "    }\n",
       "\n",
       "    .dataframe tbody tr th {\n",
       "        vertical-align: top;\n",
       "    }\n",
       "\n",
       "    .dataframe thead th {\n",
       "        text-align: right;\n",
       "    }\n",
       "</style>\n",
       "<table border=\"1\" class=\"dataframe\">\n",
       "  <thead>\n",
       "    <tr style=\"text-align: right;\">\n",
       "      <th></th>\n",
       "      <th>id</th>\n",
       "      <th>nazev_cz</th>\n",
       "      <th>nazev_en</th>\n",
       "      <th>trida_cz</th>\n",
       "      <th>cena</th>\n",
       "      <th>k_prohlidce</th>\n",
       "    </tr>\n",
       "  </thead>\n",
       "  <tbody>\n",
       "    <tr>\n",
       "      <th>0</th>\n",
       "      <td>7</td>\n",
       "      <td>Šváb syčivý</td>\n",
       "      <td>Madagascar giant cockroach</td>\n",
       "      <td>Bezobratlí</td>\n",
       "      <td>1000</td>\n",
       "      <td>1</td>\n",
       "    </tr>\n",
       "    <tr>\n",
       "      <th>1</th>\n",
       "      <td>8</td>\n",
       "      <td>Pakobylka okřídlená</td>\n",
       "      <td>Pink-winged stick insect</td>\n",
       "      <td>Bezobratlí</td>\n",
       "      <td>1000</td>\n",
       "      <td>1</td>\n",
       "    </tr>\n",
       "    <tr>\n",
       "      <th>2</th>\n",
       "      <td>16</td>\n",
       "      <td>Tayra</td>\n",
       "      <td>Tayra</td>\n",
       "      <td>Savci</td>\n",
       "      <td>5000</td>\n",
       "      <td>1</td>\n",
       "    </tr>\n",
       "    <tr>\n",
       "      <th>3</th>\n",
       "      <td>35</td>\n",
       "      <td>Kajmanka supí</td>\n",
       "      <td>Alligator snapping turtle</td>\n",
       "      <td>Plazi</td>\n",
       "      <td>2000</td>\n",
       "      <td>1</td>\n",
       "    </tr>\n",
       "    <tr>\n",
       "      <th>4</th>\n",
       "      <td>37</td>\n",
       "      <td>Želva žlutočelá</td>\n",
       "      <td>Indochinese box turtle</td>\n",
       "      <td>Plazi</td>\n",
       "      <td>1000</td>\n",
       "      <td>1</td>\n",
       "    </tr>\n",
       "  </tbody>\n",
       "</table>\n",
       "</div>"
      ],
      "text/plain": [
       "   id             nazev_cz                     nazev_en    trida_cz  cena  \\\n",
       "0   7          Šváb syčivý  Madagascar giant cockroach   Bezobratlí  1000   \n",
       "1   8  Pakobylka okřídlená     Pink-winged stick insect  Bezobratlí  1000   \n",
       "2  16                Tayra                        Tayra       Savci  5000   \n",
       "3  35        Kajmanka supí    Alligator snapping turtle       Plazi  2000   \n",
       "4  37      Želva žlutočelá       Indochinese box turtle       Plazi  1000   \n",
       "\n",
       "   k_prohlidce  \n",
       "0            1  \n",
       "1            1  \n",
       "2            1  \n",
       "3            1  \n",
       "4            1  "
      ]
     },
     "execution_count": 4,
     "metadata": {},
     "output_type": "execute_result"
    }
   ],
   "source": [
    "import pandas\n",
    "data = pandas.read_csv(\"/Users/michaelasimova/Documents/Python/ukol7data.csv\", sep=\";\")\n",
    "data.head()"
   ]
  }
 ],
 "metadata": {
  "kernelspec": {
   "display_name": "Python 3",
   "language": "python",
   "name": "python3"
  },
  "language_info": {
   "codemirror_mode": {
    "name": "ipython",
    "version": 3
   },
   "file_extension": ".py",
   "mimetype": "text/x-python",
   "name": "python",
   "nbconvert_exporter": "python",
   "pygments_lexer": "ipython3",
   "version": "3.11.5"
  },
  "orig_nbformat": 4
 },
 "nbformat": 4,
 "nbformat_minor": 2
}
